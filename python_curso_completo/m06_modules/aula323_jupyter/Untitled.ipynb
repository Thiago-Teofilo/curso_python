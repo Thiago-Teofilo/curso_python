{
 "cells": [
  {
   "cell_type": "markdown",
   "id": "b5579fc5-d479-4450-8d13-2b63861cc9fd",
   "metadata": {},
   "source": [
    "# Using notebook"
   ]
  },
  {
   "cell_type": "code",
   "execution_count": 3,
   "id": "b16cd132-9d43-4fe5-899c-723205c0716d",
   "metadata": {
    "tags": []
   },
   "outputs": [],
   "source": [
    "a = 2\n",
    "b = 3"
   ]
  },
  {
   "cell_type": "code",
   "execution_count": 4,
   "id": "decd2cb7-8e4e-433f-bc79-7890b837ca5e",
   "metadata": {
    "tags": []
   },
   "outputs": [
    {
     "data": {
      "text/plain": [
       "5"
      ]
     },
     "execution_count": 4,
     "metadata": {},
     "output_type": "execute_result"
    }
   ],
   "source": [
    "a + b"
   ]
  },
  {
   "cell_type": "code",
   "execution_count": null,
   "id": "aa92b358-c35d-402d-a4ea-2ebfd08040bf",
   "metadata": {},
   "outputs": [],
   "source": []
  }
 ],
 "metadata": {
  "kernelspec": {
   "display_name": "Python 3 (ipykernel)",
   "language": "python",
   "name": "python3"
  },
  "language_info": {
   "codemirror_mode": {
    "name": "ipython",
    "version": 3
   },
   "file_extension": ".py",
   "mimetype": "text/x-python",
   "name": "python",
   "nbconvert_exporter": "python",
   "pygments_lexer": "ipython3",
   "version": "3.10.11"
  }
 },
 "nbformat": 4,
 "nbformat_minor": 5
}
